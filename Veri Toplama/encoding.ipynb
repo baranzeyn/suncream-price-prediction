{
 "cells": [
  {
   "cell_type": "code",
   "execution_count": 6,
   "metadata": {},
   "outputs": [],
   "source": [
    "import csv\n",
    "import pandas as pd\n",
    "import re\n",
    "from sklearn.preprocessing import LabelEncoder"
   ]
  },
  {
   "cell_type": "code",
   "execution_count": 7,
   "metadata": {},
   "outputs": [
    {
     "name": "stdout",
     "output_type": "stream",
     "text": [
      "SPF\n",
      "50.0     489\n",
      "30.0      21\n",
      "100.0      3\n",
      "40.0       1\n",
      "Name: count, dtype: int64\n",
      "Sınıflar: ['güneş sütü' 'krem' 'sprey' 'stick']\n",
      "Kodlar: [0 1 2 3]\n"
     ]
    }
   ],
   "source": [
    "data_path = r\"C:\\Users\\baran\\OneDrive\\Masaüstü\\Zeynep Baran\\Veri Toplama\\SUN CREAM-3.xlsx\"\n",
    "df = pd.read_excel(data_path)\n",
    "\n",
    "# Marka sayılarını elde et\n",
    "brand_counts = df['BRAND'].value_counts()\n",
    "df['SPF'].fillna(df['SPF'].median(), inplace=True)\n",
    "sayi = df['SPF'].value_counts()\n",
    "print(sayi)\n",
    "\n",
    "# 10'dan fazla tekrar eden markaları seç\n",
    "top_brands = brand_counts[brand_counts > 10].index.tolist()\n",
    "\n",
    "# Her markayı kontrol et ve 10'dan az tekrar 'diger' olarak etiketle\n",
    "df['BRAND'] = df['BRAND'].apply(lambda x: x if x in top_brands else 'diger')\n",
    "\n",
    "label_encoder = LabelEncoder()\n",
    "df['BRAND_ENCODED'] = label_encoder.fit_transform(df['BRAND'])\n",
    "df[\"COLOR_ENCODED\"]=label_encoder.fit_transform(df['COLOR'])\n",
    "df[\"TYPE_ENCODED\"]=label_encoder.fit_transform(df['TYPE'])\n",
    "\n",
    "\n",
    "# LabelEncoder'ın sınıflarını ve karşılık gelen kodları göster\n",
    "print(\"Sınıflar:\", label_encoder.classes_)\n",
    "print(\"Kodlar:\", label_encoder.transform(label_encoder.classes_))\n",
    "\n",
    "colors=pd.DataFrame({\n",
    "    \"COLOR\":df[\"COLOR\"],\n",
    "    \"COLOR_ENCODED\":df[\"COLOR_ENCODED\"]\n",
    "})\n",
    "\n",
    "brands=pd.DataFrame({\n",
    "    'BRAND':df[\"BRAND\"],\n",
    "    'BRAND_ENCODED':df[\"BRAND_ENCODED\"]})\n",
    "types=pd.DataFrame({\n",
    "    'TYPE':df['TYPE'],\n",
    "    'TYPE_ENCODED':df['TYPE_ENCODED']\n",
    "})\n",
    "brands.to_excel(\"brand.xlsx\",index=False)\n",
    "colors.to_excel(\"colors.xlsx\",index=False)\n",
    "types.to_excel(\"types.xlsx\",index=False)\n",
    "df_updated=pd.DataFrame({\n",
    "    \"BRAND\":df[\"BRAND_ENCODED\"],\n",
    "    \"SPF\":df[\"SPF\"],\n",
    "    \"PRICE\":df[\"PRICE\"],\n",
    "    \"COLOR\":df[\"COLOR_ENCODED\"],\n",
    "    \"TYPE\":df[\"TYPE_ENCODED\"],\n",
    "    \"PRODUCT QUANTITY\":df[\"PRODUCT QUANTITY\"]\n",
    "})\n",
    "df_updated.to_excel(\"SUN CREAM-ENCODED.xlsx\", index=False)\n",
    "\n"
   ]
  },
  {
   "cell_type": "code",
   "execution_count": 8,
   "metadata": {},
   "outputs": [
    {
     "name": "stdout",
     "output_type": "stream",
     "text": [
      "<class 'pandas.core.frame.DataFrame'>\n",
      "RangeIndex: 514 entries, 0 to 513\n",
      "Data columns (total 9 columns):\n",
      " #   Column            Non-Null Count  Dtype  \n",
      "---  ------            --------------  -----  \n",
      " 0   BRAND             514 non-null    object \n",
      " 1   SPF               514 non-null    float64\n",
      " 2   TYPE              514 non-null    object \n",
      " 3   COLOR             514 non-null    object \n",
      " 4   PRODUCT QUANTITY  514 non-null    int64  \n",
      " 5   PRICE             514 non-null    int64  \n",
      " 6   BRAND_ENCODED     514 non-null    int32  \n",
      " 7   COLOR_ENCODED     514 non-null    int32  \n",
      " 8   TYPE_ENCODED      514 non-null    int32  \n",
      "dtypes: float64(1), int32(3), int64(2), object(3)\n",
      "memory usage: 30.2+ KB\n"
     ]
    }
   ],
   "source": [
    "df.info()\n"
   ]
  }
 ],
 "metadata": {
  "kernelspec": {
   "display_name": "Python 3",
   "language": "python",
   "name": "python3"
  },
  "language_info": {
   "codemirror_mode": {
    "name": "ipython",
    "version": 3
   },
   "file_extension": ".py",
   "mimetype": "text/x-python",
   "name": "python",
   "nbconvert_exporter": "python",
   "pygments_lexer": "ipython3",
   "version": "3.10.11"
  }
 },
 "nbformat": 4,
 "nbformat_minor": 2
}
