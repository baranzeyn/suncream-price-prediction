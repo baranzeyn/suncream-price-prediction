{
 "cells": [
  {
   "cell_type": "code",
   "execution_count": 1,
   "metadata": {},
   "outputs": [],
   "source": [
    "import pandas as pd\n",
    "import requests\n",
    "from bs4 import BeautifulSoup"
   ]
  },
  {
   "cell_type": "code",
   "execution_count": 2,
   "metadata": {},
   "outputs": [],
   "source": [
    "brands = []\n",
    "titles = []\n",
    "prices = []"
   ]
  },
  {
   "cell_type": "code",
   "execution_count": 3,
   "metadata": {},
   "outputs": [],
   "source": [
    "sun_milk=[\"güneş sütü\",\"sunmilk\",\"sun milk\",\"güneşsütü\"]#2\n",
    "sun_cream=[\"güneş kremi\",\"sun cream\",\"suncream\",\"güneşkremi\",\"güneş losyonu\",\"güneşlosyonu\",\"sun lotion\",\"sunlotion\"]#4\n",
    "sun_stick=[\"stick\"]\n",
    "sun_spray=[\"güneş sprey\",\"sprey\",\"spray\",\"sun spray\"]\n",
    "delete_data=[\"güneş yağı\",\"sun oil\",\"sunoil\",\"güneşyağı\",\"serum\",\"bronzlaştırıcı losyon\",\"bronzlaştırıcı krem\",\"set\",\"seti\",\"ikili\",\"2li\",\"2 li\",\"2'li\",\"kit\",\"kiti\",\"hediye\",\"adet\",\"3lü\"]\n",
    "\n",
    "sun=sun_milk+sun_cream+sun_stick+sun_spray"
   ]
  },
  {
   "cell_type": "code",
   "execution_count": 4,
   "metadata": {},
   "outputs": [],
   "source": [
    "for i in range(60):\n",
    "    \n",
    "    headers = {\n",
    "        \"User-Agent\": \"Mozilla/5.0 (Linux; Android 6.0; Nexus 5 Build/MRA58N) AppleWebKit/537.36 (KHTML, like Gecko) Chrome/120.0.0.0 Mobile Safari/537.36\"\n",
    "    }\n",
    "    url=\"https://www.trendyol.com/sr?rc=620%2C4774%2C2165%2C4772&pi=\" + str(i)\n",
    "    response = requests.get(url, headers=headers)\n",
    "    soup = BeautifulSoup(response.content, \"html.parser\")\n",
    "    \n",
    "    product = soup.find_all(\"li\", class_=\"product-item\")\n",
    "\n",
    "    for datas in product:\n",
    "        brand_name_span = datas.find(\"span\", class_=\"product__info-brand\")\n",
    "        title_h3=datas.find(\"h3\",class_=\"product__info-name\")\n",
    "        price_div=datas.find(class_=\"current-price__current\")\n",
    "        \n",
    "        \n",
    "        if brand_name_span and title_h3 and price_div:\n",
    "            \n",
    "            brand = brand_name_span.text.strip()\n",
    "            title=title_h3.text.strip()\n",
    "            if not any(keyword in title.lower() for keyword in delete_data) and any(word in title.lower() for word in sun):\n",
    "                if \"spf\" in title.lower() :\n",
    "                     if \"ml\" in title.lower() or \"gr\" in title.lower():\n",
    "                        title = title.replace(brand, '')\n",
    "                        title=title.lower()\n",
    "                        titles.append(title)\n",
    "                        brands.append(brand)\n",
    "                        price=price_div.text.strip()\n",
    "                        prices.append(price)\n",
    "                else:\n",
    "                        continue\n",
    "            else:\n",
    "                continue\n",
    "            \n",
    "        else:\n",
    "            print(\"can't find.\")"
   ]
  },
  {
   "cell_type": "code",
   "execution_count": null,
   "metadata": {},
   "outputs": [],
   "source": [
    "df=pd.DataFrame({\"BRAND\":brands,\"TITLE\":titles,\"PRICE\":prices})\n",
    "df.to_excel(\"SUN CREAM-2.xlsx\",index=False)"
   ]
  }
 ],
 "metadata": {
  "kernelspec": {
   "display_name": "Python 3",
   "language": "python",
   "name": "python3"
  },
  "language_info": {
   "codemirror_mode": {
    "name": "ipython",
    "version": 3
   },
   "file_extension": ".py",
   "mimetype": "text/x-python",
   "name": "python",
   "nbconvert_exporter": "python",
   "pygments_lexer": "ipython3",
   "version": "3.10.11"
  }
 },
 "nbformat": 4,
 "nbformat_minor": 2
}
