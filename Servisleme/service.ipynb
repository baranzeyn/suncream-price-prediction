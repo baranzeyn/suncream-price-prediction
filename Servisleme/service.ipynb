{
 "cells": [
  {
   "cell_type": "code",
   "execution_count": 87,
   "metadata": {},
   "outputs": [],
   "source": [
    "import streamlit as st\n",
    "import pandas as pd\n",
    "import pickle"
   ]
  },
  {
   "cell_type": "code",
   "execution_count": 88,
   "metadata": {},
   "outputs": [
    {
     "data": {
      "text/plain": [
       "DeltaGenerator()"
      ]
     },
     "execution_count": 88,
     "metadata": {},
     "output_type": "execute_result"
    }
   ],
   "source": [
    "\n",
    "#en iyi modeli yükle\n",
    "model_path = r\"C:\\Users\\baran\\OneDrive\\Masaüstü\\Zeynep Baran\\Algoritmalar\\best_model_lightgbm.pkl\"\n",
    "with open(model_path, 'rb') as file:\n",
    "    loaded_model = pickle.load(file)\n",
    "\n",
    "# tabloları yükle\n",
    "df = pd.read_excel(r\"C:\\Users\\baran\\OneDrive\\Masaüstü\\Zeynep Baran\\Veri Toplama\\SUN CREAM-ENCODED.xlsx\")\n",
    "df_brands = pd.read_excel(r\"C:\\Users\\baran\\OneDrive\\Masaüstü\\Zeynep Baran\\Veri Toplama\\brand.xlsx\")\n",
    "df_colors = pd.read_excel(r\"C:\\Users\\baran\\OneDrive\\Masaüstü\\Zeynep Baran\\Veri Toplama\\colors.xlsx\")\n",
    "df_types = pd.read_excel(r\"C:\\Users\\baran\\OneDrive\\Masaüstü\\Zeynep Baran\\Veri Toplama\\types.xlsx\")\n",
    "\n",
    "\n",
    "st.title(\"Güneş Kremi Fiyat Tahmini\")\n",
    "\n",
    "# veri girişleri\n",
    "brand = st.selectbox('Marka Seçin', df_brands[\"BRAND\"])\n",
    "color = st.selectbox('Renk Seçin', df_colors[\"COLOR\"])\n",
    "type_1 = st.selectbox('Tip Seçin', df_types[\"TYPE\"])\n",
    "spf = st.number_input('SPF', min_value=df['SPF'].min(), max_value=df['SPF'].max(), step=1)\n",
    "volume = st.number_input('Hacim (ml)', min_value=df['PRODUCT QUANTITY'].min(), max_value=df['PRODUCT QUANTITY'].max(), step=1)\n",
    "\n",
    "# alınan verileri kullanarak encodelanan verilere ulaş\n",
    "encoding_index_brand = df_brands[df_brands[\"BRAND\"] == brand].index[0]\n",
    "brand_encoded=df_brands[\"BRAND_ENCODED\"][encoding_index_brand]\n",
    "\n",
    "\n",
    "encoding_index_color=df_colors[df_colors[\"COLOR\"]==color].index[0]\n",
    "color_encoded=df_colors[\"COLOR_ENCODED\"][encoding_index_color]\n",
    "\n",
    "\n",
    "encoding_index_type=df_types[df_types[\"TYPE\"]==type_1].index[0]\n",
    "type_1_encoded=df_types[\"TYPE_ENCODED\"][encoding_index_type]\n",
    "\n",
    "input_data = pd.DataFrame({'brand': [brand_encoded], 'color': [color_encoded], 'type': [type_1_encoded], 'SPF': [spf], 'volume_ml': [volume]})\n",
    "input_df = pd.DataFrame(input_data)\n",
    "\n",
    "\n",
    "#tahmin\n",
    "prediction = loaded_model.predict(input_df)[0]\n",
    "\n",
    "st.success(f'Olası fiyat: {prediction} TL')"
   ]
  }
 ],
 "metadata": {
  "kernelspec": {
   "display_name": "Python 3",
   "language": "python",
   "name": "python3"
  },
  "language_info": {
   "codemirror_mode": {
    "name": "ipython",
    "version": 3
   },
   "file_extension": ".py",
   "mimetype": "text/x-python",
   "name": "python",
   "nbconvert_exporter": "python",
   "pygments_lexer": "ipython3",
   "version": "3.10.11"
  }
 },
 "nbformat": 4,
 "nbformat_minor": 2
}
